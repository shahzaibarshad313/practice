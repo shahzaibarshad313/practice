{
 "cells": [
  {
   "cell_type": "markdown",
   "metadata": {},
   "source": [
    "# 1. Make a calculator using Python with addition , subtraction , multiplication , division and power."
   ]
  },
  {
   "cell_type": "code",
   "execution_count": 9,
   "metadata": {},
   "outputs": [
    {
     "name": "stdout",
     "output_type": "stream",
     "text": [
      "Welcome to Calculator\n",
      "Enter 1st Number: 5\n",
      "Please choose your Operator '+' '-' '/' '*' '**' : *\n",
      "Enter 2nd Number: 4\n",
      "5  x  4  =  20\n"
     ]
    }
   ],
   "source": [
    "print(\"Welcome to Calculator\")\n",
    "val1 = int(input(\"Enter 1st Number: \"))\n",
    "op = input(\"Please choose your Operator '+' '-' '/' '*' '**' : \")\n",
    "\n",
    "if op == \"+\":\n",
    "    val2 = int(input(\"Enter 2nd Number: \"))\n",
    "    val = val1 + val2\n",
    "    print(val1,\" + \", val2,\" = \",val)\n",
    "\n",
    "if op == \"-\":\n",
    "    val2 = int(input(\"Enter 2nd Number: \"))\n",
    "    val = val1 - val2\n",
    "    print(val1,\" - \", val2,\" = \",val)\n",
    "\n",
    "if op == \"/\":\n",
    "    val2 = int(input(\"Enter 2nd Number: \"))\n",
    "    val = val1 / val2\n",
    "    print(val1,\" / \", val2,\" = \",val)\n",
    "    \n",
    "if op == \"*\":\n",
    "    val2 = int(input(\"Enter 2nd Number: \"))\n",
    "    val = val1 * val2\n",
    "    print(val1,\" x \", val2,\" = \",val)\n",
    "    \n",
    "if op == \"**\":\n",
    "    val2 = int(input(\"Enter 2nd Number: \"))\n",
    "    val = val1 ** val2\n",
    "    print(val1,\"**\", val2,\" = \",val)"
   ]
  },
  {
   "cell_type": "markdown",
   "metadata": {},
   "source": [
    "# 2. Write a program to check if there is any numeric value in list using for loop"
   ]
  },
  {
   "cell_type": "code",
   "execution_count": 15,
   "metadata": {},
   "outputs": [
    {
     "name": "stdout",
     "output_type": "stream",
     "text": [
      "Numeric Value find in list:  21\n",
      "Numeric Value find in list:  64\n"
     ]
    }
   ],
   "source": [
    "mylist = [\"Usama\", \"Zia\", \"AI\", 21, \"Karachi\", \"PIAIC\", 64, \"Pakistan\"]\n",
    "x = 0\n",
    "num = type(x)\n",
    "for i in mylist:\n",
    "    m = type(i)\n",
    "    if m == num:\n",
    "        print(\"Numeric Value find in list: \",i)\n",
    "    else:\n",
    "        continue\n",
    "        "
   ]
  },
  {
   "cell_type": "markdown",
   "metadata": {},
   "source": [
    "# 3. Write a Python script to add a key to a dictionary"
   ]
  },
  {
   "cell_type": "code",
   "execution_count": 51,
   "metadata": {},
   "outputs": [
    {
     "data": {
      "text/plain": [
       "{'a': 10, 'b': 20, 'c': 30, 'd': None}"
      ]
     },
     "execution_count": 51,
     "metadata": {},
     "output_type": "execute_result"
    }
   ],
   "source": [
    "my_dict = {'a': 10, 'b':20, 'c':30}\n",
    "\n",
    "my_dict[\"d\"] = None    #Add a key to a dictionary\n",
    "\n",
    "my_dict"
   ]
  },
  {
   "cell_type": "markdown",
   "metadata": {},
   "source": [
    "# 4. Write a Python program to sum all the numeric items in a dictionary"
   ]
  },
  {
   "cell_type": "code",
   "execution_count": 48,
   "metadata": {},
   "outputs": [
    {
     "name": "stdout",
     "output_type": "stream",
     "text": [
      "Sum of Numeric Items is:  150\n"
     ]
    }
   ],
   "source": [
    "my_dict = {'a': 10, 'b':20, 'c':30, 'd':40, 'e':50}\n",
    "\n",
    "x = sum(my_dict.values())\n",
    "\n",
    "print(\"Sum of Numeric Items is: \",x)"
   ]
  },
  {
   "cell_type": "markdown",
   "metadata": {},
   "source": [
    "# 5. Write a program to identify duplicate values from list"
   ]
  },
  {
   "cell_type": "code",
   "execution_count": 3,
   "metadata": {},
   "outputs": [
    {
     "name": "stdout",
     "output_type": "stream",
     "text": [
      "Duplicate Values are :  [11, 'Shahzaib', 44]\n"
     ]
    }
   ],
   "source": [
    "newlist = [11,23,67,88,66,\"Shahzaib\",44,33,22,44,11,45,\"Shahzaib\"]\n",
    "repeated = []\n",
    "\n",
    "for i in newlist:\n",
    "    a = newlist.count(i)\n",
    "    if a > 1:\n",
    "        if i in repeated:\n",
    "            continue\n",
    "        else:\n",
    "            repeated.append(i)\n",
    "            \n",
    "print(\"Duplicate Values are : \",repeated)"
   ]
  },
  {
   "cell_type": "markdown",
   "metadata": {},
   "source": [
    "# 6. Write a Python script to check if a given key already exists in a dictionary"
   ]
  },
  {
   "cell_type": "code",
   "execution_count": 54,
   "metadata": {},
   "outputs": [
    {
     "name": "stdout",
     "output_type": "stream",
     "text": [
      "Enter key to check existence: City\n",
      "The key : City Is Already Exist\n"
     ]
    }
   ],
   "source": [
    "student = {'Name': 'Shahzaib', 'Rollno': 'CSC062', 'Course': 'AI',\n",
    "          'Age': 21, 'City': 'Karachi', 'Country': 'Pakistan'}\n",
    "\n",
    "key_to_check = input(\"Enter key to check existence: \")\n",
    "if key_to_check in student.keys():\n",
    "    print(\"The key : \" + key_to_check + \" Is Already Exist\")\n",
    "else:\n",
    "    print(\"The key : \" + key_to_check + \" Is Not Exist\")"
   ]
  },
  {
   "cell_type": "code",
   "execution_count": null,
   "metadata": {},
   "outputs": [],
   "source": []
  }
 ],
 "metadata": {
  "kernelspec": {
   "display_name": "Python 3",
   "language": "python",
   "name": "python3"
  },
  "language_info": {
   "codemirror_mode": {
    "name": "ipython",
    "version": 3
   },
   "file_extension": ".py",
   "mimetype": "text/x-python",
   "name": "python",
   "nbconvert_exporter": "python",
   "pygments_lexer": "ipython3",
   "version": "3.7.4"
  }
 },
 "nbformat": 4,
 "nbformat_minor": 2
}
