{
 "cells": [
  {
   "cell_type": "markdown",
   "metadata": {},
   "source": [
    "# Question1: Use a dictionary to store information about a person you know. Store their first name, last name, age, and the city in which they live. You should have keys such as first_name, last_name, age, and city. Print each piece of information stored in your dictionary. Add a new key value pair about qualification then update the qualification value to high academic level then delete it.\n"
   ]
  },
  {
   "cell_type": "markdown",
   "metadata": {},
   "source": [
    "Creating dictionary to store firstname, last name, age and city"
   ]
  },
  {
   "cell_type": "code",
   "execution_count": 1,
   "metadata": {},
   "outputs": [],
   "source": [
    "Person = {\"first_name\" : \"Shahzaib\", \"last_name\" : \"Arshad\", \"age\" : \"23\", \"city\" : \"Karachi\"}"
   ]
  },
  {
   "cell_type": "markdown",
   "metadata": {},
   "source": [
    "Print each piece of information stored in dictionary."
   ]
  },
  {
   "cell_type": "code",
   "execution_count": 2,
   "metadata": {},
   "outputs": [
    {
     "name": "stdout",
     "output_type": "stream",
     "text": [
      "first_name: Shahzaib\n",
      "last_name: Arshad\n",
      "age: 23\n",
      "city: Karachi\n"
     ]
    }
   ],
   "source": [
    "for key,value in Person.items():\n",
    "    print(key + \": \" + value)"
   ]
  },
  {
   "cell_type": "markdown",
   "metadata": {},
   "source": [
    "Add a new key value pair about qualification and print it"
   ]
  },
  {
   "cell_type": "code",
   "execution_count": 3,
   "metadata": {},
   "outputs": [
    {
     "name": "stdout",
     "output_type": "stream",
     "text": [
      "first_name: Shahzaib\n",
      "last_name: Arshad\n",
      "age: 23\n",
      "city: Karachi\n",
      "qualification: BS_Computer Science\n"
     ]
    }
   ],
   "source": [
    "Person[\"qualification\"] = \"BS_Computer Science\"\n",
    "\n",
    "for key,value in Person.items():\n",
    "    print(key + \": \" + value)"
   ]
  },
  {
   "cell_type": "markdown",
   "metadata": {},
   "source": [
    "update the qualification value to high academic level and print it"
   ]
  },
  {
   "cell_type": "code",
   "execution_count": 4,
   "metadata": {},
   "outputs": [
    {
     "name": "stdout",
     "output_type": "stream",
     "text": [
      "first_name: Shahzaib\n",
      "last_name: Arshad\n",
      "age: 23\n",
      "city: Karachi\n",
      "qualification: M phill\n"
     ]
    }
   ],
   "source": [
    "Person[\"qualification\"] = \"M phill\"\n",
    "\n",
    "for key,value in Person.items():\n",
    "    print(key + \": \" + value)"
   ]
  },
  {
   "cell_type": "markdown",
   "metadata": {},
   "source": [
    "delete qualification pair from dictionary and print it"
   ]
  },
  {
   "cell_type": "code",
   "execution_count": 5,
   "metadata": {},
   "outputs": [
    {
     "name": "stdout",
     "output_type": "stream",
     "text": [
      "first_name: Shahzaib\n",
      "last_name: Arshad\n",
      "age: 23\n",
      "city: Karachi\n"
     ]
    }
   ],
   "source": [
    "del Person[\"qualification\"]\n",
    "for key,value in Person.items():\n",
    "    print(key + \": \" + value)"
   ]
  },
  {
   "cell_type": "markdown",
   "metadata": {},
   "source": [
    "# Question2: Make a dictionary called cities. Use the names of three cities as keys in your dictionary. Create a dictionary of information about each city and include the country that the city is in, its approximate population, and one fact about that city. The keys for each city’s dictionary should be something like country, population, and fact. Print the name of each city and all of the information you have stored about it.\n"
   ]
  },
  {
   "cell_type": "code",
   "execution_count": 1,
   "metadata": {},
   "outputs": [],
   "source": [
    "cities = {\n",
    "    \"Karachi\" : {\n",
    "        \"Country\" : \"Pakistan\",\n",
    "        \"Population\" : \"15,741,000\",\n",
    "        \"Fact\" : \"It is the Sixth largest city in the world by city population.\"\n",
    "    }, \n",
    "    \"Lahore\" : {\n",
    "        \"Country\" : \"Pakistan\",\n",
    "        \"Population\" : \"12,188,000\",\n",
    "        \"Fact\" : \"It is also known as the 'City of Gardens' because of its many parks and gardens.\"\n",
    "    },\n",
    "    \"Islamabad\" : {\n",
    "        \"Country\" : \"Pakistan\",\n",
    "        \"Population\" : \"1,095,064\",\n",
    "        \"Fact\" : \"Islamabad is noted for its high standards of living, safety, and abundant greenery.\"\n",
    "    }\n",
    "}"
   ]
  },
  {
   "cell_type": "code",
   "execution_count": 2,
   "metadata": {},
   "outputs": [
    {
     "name": "stdout",
     "output_type": "stream",
     "text": [
      "\n",
      "City: KARACHI\n",
      "\tCountry: Pakistan\n",
      "\tPopulation: 15,741,000\n",
      "\tFact: It is the Sixth largest city in the world by city population.\n",
      "\n",
      "City: LAHORE\n",
      "\tCountry: Pakistan\n",
      "\tPopulation: 12,188,000\n",
      "\tFact: It is also known as the 'City of Gardens' because of its many parks and gardens.\n",
      "\n",
      "City: ISLAMABAD\n",
      "\tCountry: Pakistan\n",
      "\tPopulation: 1,095,064\n",
      "\tFact: Islamabad is noted for its high standards of living, safety, and abundant greenery.\n"
     ]
    }
   ],
   "source": [
    "for city, city_info in cities.items():\n",
    "    print(\"\\nCity: \" + city.upper())\n",
    "    country = city_info['Country']\n",
    "    pop = city_info['Population']\n",
    "    fact = city_info['Fact']\n",
    "    print(\"\\tCountry: \" + country)\n",
    "    print(\"\\tPopulation: \" + pop)\n",
    "    print(\"\\tFact: \" + fact)\n"
   ]
  },
  {
   "cell_type": "markdown",
   "metadata": {},
   "source": [
    "# Question3: A movie theater charges different ticket prices depending on a person’s age. If a person is under the age of 3, the ticket is free; if they are between 3 and 12, the ticket is 10 and if they are over age 12, the ticket is 15. Write a loop in which you ask users their age, and then tell them the cost of their movie ticket."
   ]
  },
  {
   "cell_type": "code",
   "execution_count": null,
   "metadata": {},
   "outputs": [
    {
     "name": "stdout",
     "output_type": "stream",
     "text": [
      "A Movie Theater\n",
      "Welcome to Movie Theater\n",
      "\n",
      "Enter Your Age to get your Ticket: 33\n",
      "Your Ticket is Price is $15\n",
      "\n",
      "Enter Your Age to get your Ticket: 34\n",
      "Your Ticket is Price is $15\n",
      "\n",
      "Enter Your Age to get your Ticket: 22\n",
      "Your Ticket is Price is $15\n",
      "\n",
      "Enter Your Age to get your Ticket: 31\n",
      "Your Ticket is Price is $15\n",
      "\n",
      "Enter Your Age to get your Ticket: 1\n",
      "Your Ticket is Free\n"
     ]
    }
   ],
   "source": [
    "print(\"A Movie Theater\")\n",
    "print(\"Welcome to Movie Theater\")\n",
    "while True:\n",
    "    age = input(\"\\nEnter Your Age to get your Ticket: \")\n",
    "    if age == 'q':\n",
    "        print(\"Enjoy your Movie :)\")\n",
    "        break\n",
    "    elif int(age) < 3:\n",
    "        print(\"Your Ticket is Free\")\n",
    "    elif int(age) >= 3 and int(age) <= 12:\n",
    "        print(\"Your Ticket is Price is $10\")\n",
    "    elif int(age) > 12:\n",
    "        print(\"Your Ticket is Price is $15\")                \n",
    "    else:\n",
    "        print(\"Invalid Input\")"
   ]
  },
  {
   "cell_type": "markdown",
   "metadata": {},
   "source": [
    "# Question4: Write a function called favorite_book() that accepts one parameter, title. The function should print a message, such as One of my favorite books is Alice in Wonderland. Call the function, making sure to include a book title as an argument in the function call.\n"
   ]
  },
  {
   "cell_type": "code",
   "execution_count": null,
   "metadata": {},
   "outputs": [],
   "source": [
    "def favorite_book(title):\n",
    "    print(\"One of my favorite books is\",title)\n",
    "\n",
    "favorite_book(\"Alice in Wonderland\")"
   ]
  },
  {
   "cell_type": "markdown",
   "metadata": {},
   "source": [
    "# Question5: Guess the number game. Write a program which randomly generate a number between 1 to 30 and ask the user in input field to guess the correct number. Give three chances to user guess the number and also give hint to user if hidden number is greater or smaller than the number he given to input field.\n"
   ]
  },
  {
   "cell_type": "code",
   "execution_count": null,
   "metadata": {},
   "outputs": [],
   "source": [
    "# import random\n",
    "\n",
    "win_number = random.randint(1,30)\n",
    "counter = 0\n",
    "chances = 3\n",
    "\n",
    "for i in range(3):\n",
    "    print(f\"\\nYou have {chances} chances Remaining\")\n",
    "    num = int(input(\"Guess a Number between 1 to 30 :\"))\n",
    "    chances -= 1\n",
    "    \n",
    "    if num == win_number:\n",
    "        counter += 1\n",
    "        print(\"\\nCongratulations, You Guess Correct Number in attempt no: \",counter)\n",
    "        break\n",
    "    \n",
    "    else:\n",
    "        \n",
    "        if num < win_number:\n",
    "            print(\"Your guess number is smaller than win number\")\n",
    "        \n",
    "        else:\n",
    "            print(\"Your guess number is greater than win number\")\n",
    "        \n",
    "        counter += 1\n",
    "        if counter == 3:\n",
    "            print(\"\\nSorry You Lose, Please Try Again\")"
   ]
  },
  {
   "cell_type": "code",
   "execution_count": null,
   "metadata": {},
   "outputs": [],
   "source": []
  },
  {
   "cell_type": "code",
   "execution_count": null,
   "metadata": {},
   "outputs": [],
   "source": []
  },
  {
   "cell_type": "code",
   "execution_count": null,
   "metadata": {},
   "outputs": [],
   "source": []
  }
 ],
 "metadata": {
  "kernelspec": {
   "display_name": "Python 3",
   "language": "python",
   "name": "python3"
  },
  "language_info": {
   "codemirror_mode": {
    "name": "ipython",
    "version": 3
   },
   "file_extension": ".py",
   "mimetype": "text/x-python",
   "name": "python",
   "nbconvert_exporter": "python",
   "pygments_lexer": "ipython3",
   "version": "3.7.4"
  }
 },
 "nbformat": 4,
 "nbformat_minor": 2
}
